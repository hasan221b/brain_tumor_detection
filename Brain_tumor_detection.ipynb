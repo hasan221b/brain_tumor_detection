{
 "cells": [
  {
   "cell_type": "code",
   "execution_count": 1,
   "id": "4e9885ca",
   "metadata": {},
   "outputs": [
    {
     "name": "stdout",
     "output_type": "stream",
     "text": [
      "WARNING:tensorflow:From C:\\Users\\hasan\\anaconda3\\lib\\site-packages\\keras\\src\\losses.py:2976: The name tf.losses.sparse_softmax_cross_entropy is deprecated. Please use tf.compat.v1.losses.sparse_softmax_cross_entropy instead.\n",
      "\n"
     ]
    }
   ],
   "source": [
    "from PyQt5 import sip\n",
    "from PyQt5 import QtWidgets,uic,QtGui\n",
    "from PyQt5.QtWidgets import QLabel\n",
    "import pandas as pd\n",
    "import matplotlib.pyplot as plt\n",
    "import numpy as np\n",
    "from tensorflow import keras\n",
    "import cv2\n",
    "from PIL import Image"
   ]
  },
  {
   "cell_type": "code",
   "execution_count": 2,
   "id": "5c8e9025",
   "metadata": {},
   "outputs": [
    {
     "name": "stdout",
     "output_type": "stream",
     "text": [
      "WARNING:tensorflow:From C:\\Users\\hasan\\anaconda3\\lib\\site-packages\\keras\\src\\backend.py:1398: The name tf.executing_eagerly_outside_functions is deprecated. Please use tf.compat.v1.executing_eagerly_outside_functions instead.\n",
      "\n",
      "WARNING:tensorflow:From C:\\Users\\hasan\\anaconda3\\lib\\site-packages\\keras\\src\\layers\\pooling\\max_pooling2d.py:161: The name tf.nn.max_pool is deprecated. Please use tf.nn.max_pool2d instead.\n",
      "\n"
     ]
    }
   ],
   "source": [
    "def make_prediction(img):\n",
    "\n",
    "    input_img = np.expand_dims(img, axis=0)\n",
    "\n",
    "    res = (model.predict(input_img) > 0.5).astype(\"int32\")\n",
    "    return res\n",
    "\n",
    "def show_result(img):\n",
    "\n",
    "    image = cv2.imread(img)\n",
    "\n",
    "    img = Image.fromarray(image)\n",
    "\n",
    "    img = img.resize((64,64))\n",
    "\n",
    "    img = np.array(img)\n",
    "\n",
    "    pred = make_prediction(img)\n",
    "    return pred\n",
    "model = keras.models.load_model('BrainTumorDetection.h5')\n",
    "def auto_canny(image,sigma = 0.33):\n",
    "    v = np.median(image)\n",
    "    lower = int(max(0,(1.0-sigma)*v))\n",
    "    upper = int(max(255,(1.0-sigma)*v))\n",
    "    edged = cv2.Canny(image,lower,upper)\n",
    "    return edged"
   ]
  },
  {
   "cell_type": "code",
   "execution_count": null,
   "id": "b2ce3391",
   "metadata": {},
   "outputs": [
    {
     "name": "stdout",
     "output_type": "stream",
     "text": [
      "image2.jpg\n",
      "1/1 [==============================] - 1s 749ms/step\n",
      "Contour area (mm^2): 2.6\n",
      "2.6049\n"
     ]
    }
   ],
   "source": [
    "def calculate1():\n",
    "    #reading image\n",
    "    img_name=call.lineEdit_4.text()\n",
    "    print(img_name)\n",
    "    image = cv2.imread(img_name)\n",
    "    image = cv2.resize(image,(336,264))\n",
    "    image = cv2.cvtColor(image, cv2.COLOR_BGR2GRAY)\n",
    "    pixmap=QtGui.QPixmap(img_name)\n",
    "    call.label_2.setPixmap(pixmap)\n",
    "def calculate2():\n",
    "    #predict\n",
    "    img_name=call.lineEdit_4.text()\n",
    "    prediction = show_result(img_name)\n",
    "    result = prediction[0][0]\n",
    "    if result == 0:\n",
    "        R = 'No Tumor'\n",
    "        call.lineEdit_3.setText(R)\n",
    "    if result ==1:\n",
    "        R = 'Tumor Detected'\n",
    "        call.lineEdit_3.setText(R)\n",
    "\n",
    "def calculate3():\n",
    "    img_name=call.lineEdit_4.text()\n",
    "    image = cv2.imread(img_name)\n",
    "    image = cv2.resize(image,(500,590))\n",
    "    gray = cv2.cvtColor(image, cv2.COLOR_BGR2GRAY,0.7)\n",
    "    #cv2_imshow(gray)\n",
    "    (T, thresh) = cv2.threshold(gray,150,255,cv2.THRESH_BINARY)\n",
    "    (T, threshInv) = cv2.threshold(gray,150,255,cv2.THRESH_BINARY_INV)\n",
    "    kernel = cv2.getStructuringElement(cv2.MORPH_RECT,(10,5))\n",
    "    closed = cv2.morphologyEx(thresh,cv2.MORPH_CLOSE,kernel)\n",
    "    #cv2_imshow(closed)\n",
    "    closed = cv2.erode(closed,None, iterations = 14)\n",
    "    closed = cv2.dilate(closed,None, iterations = 12)\n",
    "    #cv2_imshow(closed)\n",
    "    ret,mask = cv2.threshold(closed,155,255,cv2.THRESH_BINARY)\n",
    "    final = cv2.bitwise_and(image,image,mask = mask)\n",
    "    #cv2_imshow(final)\n",
    "    canny = auto_canny(closed)\n",
    "    #cv2_imshow(canny)\n",
    "    cnts,_ = cv2.findContours(canny.copy(),cv2.RETR_EXTERNAL,cv2.CHAIN_APPROX_SIMPLE)\n",
    "    z = cv2.drawContours(image,cnts,-1,(255,0,0),thickness=cv2.FILLED)\n",
    "    filename = 'area.jpg'\n",
    "    cv2.imwrite(filename, z) \n",
    "    pixmap1=QtGui.QPixmap(filename)\n",
    "    call.label_3.setPixmap(pixmap1)\n",
    "def calculate4():\n",
    "    img_name=call.lineEdit_4.text()\n",
    "    image = cv2.imread(img_name)\n",
    "    image = cv2.resize(image,(500,590))\n",
    "    gray = cv2.cvtColor(image, cv2.COLOR_BGR2GRAY,0.7)\n",
    "    #cv2_imshow(gray)\n",
    "    (T, thresh) = cv2.threshold(gray,150,255,cv2.THRESH_BINARY)\n",
    "    (T, threshInv) = cv2.threshold(gray,150,255,cv2.THRESH_BINARY_INV)\n",
    "    kernel = cv2.getStructuringElement(cv2.MORPH_RECT,(10,5))\n",
    "    closed = cv2.morphologyEx(thresh,cv2.MORPH_CLOSE,kernel)\n",
    "    #cv2_imshow(closed)\n",
    "    closed = cv2.erode(closed,None, iterations = 14)\n",
    "    closed = cv2.dilate(closed,None, iterations = 12)\n",
    "    #cv2_imshow(closed)\n",
    "    ret,mask = cv2.threshold(closed,155,255,cv2.THRESH_BINARY)\n",
    "    final = cv2.bitwise_and(image,image,mask = mask)\n",
    "    #cv2_imshow(final)\n",
    "    canny = auto_canny(closed)\n",
    "    #cv2_imshow(canny)\n",
    "    cnts,_ = cv2.findContours(canny.copy(),cv2.RETR_EXTERNAL,cv2.CHAIN_APPROX_SIMPLE)\n",
    "    pixel_to_mm = 0.01  \n",
    "    aa =[]\n",
    "    image_width_mm = image.shape[1] * pixel_to_mm\n",
    "    image_height_mm = image.shape[0] * pixel_to_mm\n",
    "\n",
    "    for contour in cnts:\n",
    "        area_pixels = cv2.contourArea(contour)\n",
    "        area_mm = area_pixels * (pixel_to_mm ** 2)\n",
    "        aa.append(area_mm)\n",
    "        area = max(aa)\n",
    "        print(\"Contour area (mm^2):\", round(area_mm,2))\n",
    "    if len(aa) == 0:\n",
    "        area = 'No tumor'\n",
    "        call.lineEdit_2.setText(area)\n",
    "    else:\n",
    "        \n",
    "        area = max(aa)\n",
    "        call.lineEdit_2.setText(str(area))\n",
    "    print(area)\n",
    "    #call.lineEdit_2.setText(str(area))\n",
    "def calculate5():\n",
    "    pixmap2=QtGui.QPixmap('reset.png')\n",
    "    call.label_2.setPixmap(pixmap2)\n",
    "    call.label_3.setPixmap(pixmap2)\n",
    "    call.lineEdit_3.setText('')\n",
    "    call.lineEdit_2.setText('')\n",
    "    call.lineEdit_4.setText('')\n",
    "###########################\n",
    "app=QtWidgets.QApplication([])\n",
    "call=uic.loadUi(\"interface.ui\")\n",
    "call.pushButton_5.clicked.connect(calculate1)\n",
    "call.pushButton_2.clicked.connect(calculate2)\n",
    "call.pushButton_3.clicked.connect(calculate3)\n",
    "call.pushButton_4.clicked.connect(calculate4)\n",
    "call.pushButton_6.clicked.connect(calculate5)\n",
    "call.show()\n",
    "app.exec()"
   ]
  },
  {
   "cell_type": "code",
   "execution_count": null,
   "id": "e180308a",
   "metadata": {},
   "outputs": [],
   "source": []
  }
 ],
 "metadata": {
  "kernelspec": {
   "display_name": "Python 3 (ipykernel)",
   "language": "python",
   "name": "python3"
  },
  "language_info": {
   "codemirror_mode": {
    "name": "ipython",
    "version": 3
   },
   "file_extension": ".py",
   "mimetype": "text/x-python",
   "name": "python",
   "nbconvert_exporter": "python",
   "pygments_lexer": "ipython3",
   "version": "3.10.9"
  }
 },
 "nbformat": 4,
 "nbformat_minor": 5
}
